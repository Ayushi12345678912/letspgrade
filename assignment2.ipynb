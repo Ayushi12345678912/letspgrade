{
  "nbformat": 4,
  "nbformat_minor": 0,
  "metadata": {
    "colab": {
      "name": "assignment2.ipynb",
      "provenance": [],
      "authorship_tag": "ABX9TyN1G9p1t5HFvKETW5xBWB0W",
      "include_colab_link": true
    },
    "kernelspec": {
      "name": "python3",
      "display_name": "Python 3"
    }
  },
  "cells": [
    {
      "cell_type": "markdown",
      "metadata": {
        "id": "view-in-github",
        "colab_type": "text"
      },
      "source": [
        "<a href=\"https://colab.research.google.com/github/Ayushi12345678912/letspgrade/blob/master/assignment2.ipynb\" target=\"_parent\"><img src=\"https://colab.research.google.com/assets/colab-badge.svg\" alt=\"Open In Colab\"/></a>"
      ]
    },
    {
      "cell_type": "code",
      "metadata": {
        "id": "KosXJ9ogE7LE",
        "colab_type": "code",
        "colab": {
          "base_uri": "https://localhost:8080/",
          "height": 138
        },
        "outputId": "4207e459-cc70-42ca-c13c-02ad67eb0858"
      },
      "source": [
        "for altitude in range (1000,10000):\n",
        "  altitude=int(input('enter altitude:'))\n",
        "  if altitude==1000:\n",
        "    print('plane is safe to land ')\n",
        "  elif altitude >1000 and altitude <5000:\n",
        "       print('bring thr plane down to 1000')\n",
        "  else:\n",
        "       print('turn around and try later')  "
      ],
      "execution_count": null,
      "outputs": [
        {
          "output_type": "stream",
          "text": [
            "enter altitude:5678\n",
            "turn around and try later\n",
            "enter altitude:12\n",
            "turn around and try later\n",
            "enter altitude:1000\n",
            "plane is safe to land \n"
          ],
          "name": "stdout"
        }
      ]
    }
  ]
}