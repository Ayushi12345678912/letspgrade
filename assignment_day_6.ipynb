{
  "nbformat": 4,
  "nbformat_minor": 0,
  "metadata": {
    "colab": {
      "name": "assignment day 6.ipynb",
      "provenance": [],
      "authorship_tag": "ABX9TyPi1Oww/y9+dqKnRt+g2ECH",
      "include_colab_link": true
    },
    "kernelspec": {
      "name": "python3",
      "display_name": "Python 3"
    }
  },
  "cells": [
    {
      "cell_type": "markdown",
      "metadata": {
        "id": "view-in-github",
        "colab_type": "text"
      },
      "source": [
        "<a href=\"https://colab.research.google.com/github/Ayushi12345678912/letspgrade/blob/master/assignment_day_6.ipynb\" target=\"_parent\"><img src=\"https://colab.research.google.com/assets/colab-badge.svg\" alt=\"Open In Colab\"/></a>"
      ]
    },
    {
      "cell_type": "code",
      "metadata": {
        "id": "lECJRtq945V_",
        "colab_type": "code",
        "colab": {}
      },
      "source": [
        "class bank():\n",
        "     def _init_(self,ownername,balance):\n",
        "         self.ownername=ownername\n",
        "         self.balance=balance\n",
        "         print(\"owner\",self.ownername)\n",
        "         print(\"original balance\",self.balance)\n",
        "     def deposit(self,a):\n",
        "       self.balance=self.balance+a\n",
        "       print(\"Amount deposited\",a)\n",
        "     def withdraw(self,b):\n",
        "       if b<self.balance:\n",
        "         self.balance=self.balance-b\n",
        "         print(\"withdraw amount\",b)\n",
        "       else:\n",
        "         print(\"balance limit exceeded\")\n",
        "     print(\"Balance\",self.balance) \n",
        "\n",
        "   acc=bank(\"ayushi\",15000)\n",
        "   acc.deposit(1000)\n",
        "   acc.withdraw(500)         "
      ],
      "execution_count": null,
      "outputs": []
    }
  ]
}