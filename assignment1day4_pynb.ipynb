{
  "nbformat": 4,
  "nbformat_minor": 0,
  "metadata": {
    "colab": {
      "name": "assignment1day4.pynb",
      "provenance": [],
      "collapsed_sections": [],
      "authorship_tag": "ABX9TyPxknNyZnXHCFxjKl9Gl6Wp",
      "include_colab_link": true
    },
    "kernelspec": {
      "name": "python3",
      "display_name": "Python 3"
    }
  },
  "cells": [
    {
      "cell_type": "markdown",
      "metadata": {
        "id": "view-in-github",
        "colab_type": "text"
      },
      "source": [
        "<a href=\"https://colab.research.google.com/github/Ayushi12345678912/letspgrade/blob/master/assignment1day4_pynb.ipynb\" target=\"_parent\"><img src=\"https://colab.research.google.com/assets/colab-badge.svg\" alt=\"Open In Colab\"/></a>"
      ]
    },
    {
      "cell_type": "code",
      "metadata": {
        "id": "RmHtQsLsCD8v",
        "colab_type": "code",
        "colab": {
          "base_uri": "https://localhost:8080/",
          "height": 34
        },
        "outputId": "88adc4e4-5786-4e91-e7ba-03de75e65218"
      },
      "source": [
        "for n in range(1042000,702648265):\n",
        "  l=len(str(n))\n",
        "  sum=0\n",
        "  temp=n\n",
        "  while temp>0:\n",
        "    d=temp%10\n",
        "    sum+=d**l\n",
        "    temp=temp//10\n",
        "  if sum==n:\n",
        "    print(\"the first armstrog number is :\",n)\n",
        "    break  "
      ],
      "execution_count": 4,
      "outputs": [
        {
          "output_type": "stream",
          "text": [
            "the first armstrog number is : 1741725\n"
          ],
          "name": "stdout"
        }
      ]
    }
  ]
}