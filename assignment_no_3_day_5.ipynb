{
  "nbformat": 4,
  "nbformat_minor": 0,
  "metadata": {
    "colab": {
      "name": "assignment no 3 day 5",
      "provenance": [],
      "collapsed_sections": [],
      "authorship_tag": "ABX9TyPPgV9raPHwqFTFzxD31z1o",
      "include_colab_link": true
    },
    "kernelspec": {
      "name": "python3",
      "display_name": "Python 3"
    }
  },
  "cells": [
    {
      "cell_type": "markdown",
      "metadata": {
        "id": "view-in-github",
        "colab_type": "text"
      },
      "source": [
        "<a href=\"https://colab.research.google.com/github/Ayushi12345678912/letspgrade/blob/master/assignment_no_3_day_5.ipynb\" target=\"_parent\"><img src=\"https://colab.research.google.com/assets/colab-badge.svg\" alt=\"Open In Colab\"/></a>"
      ]
    },
    {
      "cell_type": "code",
      "metadata": {
        "id": "oRwBeQB72WJ6",
        "colab_type": "code",
        "colab": {
          "base_uri": "https://localhost:8080/",
          "height": 34
        },
        "outputId": "11662ca5-415b-45a8-f854-0844e4b7419d"
      },
      "source": [
        "t=lambda x : x.title()\n",
        "q=[\"hey just wait.\"]\n",
        "p=map(t,q)\n",
        "print(list(p))"
      ],
      "execution_count": 1,
      "outputs": [
        {
          "output_type": "stream",
          "text": [
            "['Hey Just Wait.']\n"
          ],
          "name": "stdout"
        }
      ]
    }
  ]
}