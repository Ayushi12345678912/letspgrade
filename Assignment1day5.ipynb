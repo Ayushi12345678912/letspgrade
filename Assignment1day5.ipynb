{
  "nbformat": 4,
  "nbformat_minor": 0,
  "metadata": {
    "colab": {
      "name": "Assignment1day5.ipynb",
      "provenance": [],
      "collapsed_sections": [],
      "authorship_tag": "ABX9TyPbmD2DWxvFAkLpMz6vAR4w",
      "include_colab_link": true
    },
    "kernelspec": {
      "name": "python3",
      "display_name": "Python 3"
    }
  },
  "cells": [
    {
      "cell_type": "markdown",
      "metadata": {
        "id": "view-in-github",
        "colab_type": "text"
      },
      "source": [
        "<a href=\"https://colab.research.google.com/github/Ayushi12345678912/letspgrade/blob/master/Assignment1day5.ipynb\" target=\"_parent\"><img src=\"https://colab.research.google.com/assets/colab-badge.svg\" alt=\"Open In Colab\"/></a>"
      ]
    },
    {
      "cell_type": "code",
      "metadata": {
        "id": "RY47iN0fJzkR",
        "colab_type": "code",
        "colab": {
          "base_uri": "https://localhost:8080/",
          "height": 34
        },
        "outputId": "88efa3bf-debe-47bf-9069-231c29244be6"
      },
      "source": [
        "lst=[1,1,2,4,6,5,3]\n",
        "sublist=[1,1,5]\n",
        "for i in range(len(lst)):\n",
        "  if lst[i]==sublist[0]:\n",
        "    for j in range(i+1,len(lst)):\n",
        "      if lst[j]==sublist[1]:\n",
        "        for k in range(j+1,len(lst)):\n",
        "          if lst[k]==sublist[2]:\n",
        "            print(\"its a match\")\n",
        "            break\n",
        "        break     \n",
        "    break\n",
        "else:\n",
        "     print(\"its gone\")     "
      ],
      "execution_count": 7,
      "outputs": [
        {
          "output_type": "stream",
          "text": [
            "its a match\n"
          ],
          "name": "stdout"
        }
      ]
    }
  ]
}