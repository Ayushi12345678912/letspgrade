{
  "nbformat": 4,
  "nbformat_minor": 0,
  "metadata": {
    "colab": {
      "name": "assignment no 2 day 6.ipynb",
      "provenance": [],
      "authorship_tag": "ABX9TyNF85fMm4slVH09eF4i9ebh",
      "include_colab_link": true
    },
    "kernelspec": {
      "name": "python3",
      "display_name": "Python 3"
    }
  },
  "cells": [
    {
      "cell_type": "markdown",
      "metadata": {
        "id": "view-in-github",
        "colab_type": "text"
      },
      "source": [
        "<a href=\"https://colab.research.google.com/github/Ayushi12345678912/letspgrade/blob/master/assignment_no_2_day_6.ipynb\" target=\"_parent\"><img src=\"https://colab.research.google.com/assets/colab-badge.svg\" alt=\"Open In Colab\"/></a>"
      ]
    },
    {
      "cell_type": "code",
      "metadata": {
        "id": "pd2EFdjO-lhq",
        "colab_type": "code",
        "colab": {}
      },
      "source": [
        ""
      ],
      "execution_count": null,
      "outputs": []
    },
    {
      "cell_type": "markdown",
      "metadata": {
        "id": "5pfTMavO-_vX",
        "colab_type": "text"
      },
      "source": [
        "import math\n"
      ]
    },
    {
      "cell_type": "code",
      "metadata": {
        "id": "fGZu-0aR_Een",
        "colab_type": "code",
        "colab": {}
      },
      "source": [
        "class cone():\n",
        "  def _init_(self,radius,height):\n",
        "    self.radius = radius\n",
        "    self.height=height\n",
        "\n",
        "  def volume(self):\n",
        "    v=(math.pi)*pow(self.radius,2)*(self.height/3)\n",
        "    return (\"volume: %.2f\"%v)\n",
        "    def area(self):\n",
        "      a = (math.pi)*self.radious*(self.radius+math.sqrt((pow(self.radius,2)+pow(self.height,2))))\n",
        "      return(\"surface Area: %.2f\"%a) \n",
        "\n",
        "      vol=cone(5,2)\n",
        "      vol.volume()\n",
        "      vol.area()"
      ],
      "execution_count": 3,
      "outputs": []
    }
  ]
}